{
  "nbformat": 4,
  "nbformat_minor": 0,
  "metadata": {
    "colab": {
      "name": "Amharic-Tokenizer.ipynb",
      "provenance": [],
      "collapsed_sections": [],
      "authorship_tag": "ABX9TyPMfMrg5tIbQfur8gI6p1pf",
      "include_colab_link": true
    },
    "kernelspec": {
      "name": "python3",
      "display_name": "Python 3"
    }
  },
  "cells": [
    {
      "cell_type": "markdown",
      "metadata": {
        "id": "view-in-github",
        "colab_type": "text"
      },
      "source": [
        "<a href=\"https://colab.research.google.com/github/elias-ela/amharic-tokenizer/blob/main/Amharic_Tokenizer.ipynb\" target=\"_parent\"><img src=\"https://colab.research.google.com/assets/colab-badge.svg\" alt=\"Open In Colab\"/></a>"
      ]
    },
    {
      "cell_type": "code",
      "metadata": {
        "id": "iyMFL8dK3StB"
      },
      "source": [
        "!pip install sentencepiece"
      ],
      "execution_count": null,
      "outputs": []
    },
    {
      "cell_type": "code",
      "metadata": {
        "id": "e0x1Zzn13YQW"
      },
      "source": [
        "import sentencepiece as spm\n",
        "import time"
      ],
      "execution_count": 38,
      "outputs": []
    },
    {
      "cell_type": "code",
      "metadata": {
        "id": "N6py_iBFAteN"
      },
      "source": [
        "dataPath = '/content/mono-am'"
      ],
      "execution_count": 39,
      "outputs": []
    },
    {
      "cell_type": "markdown",
      "metadata": {
        "id": "KPMLMlcxKhd0"
      },
      "source": [
        "# **Function that processes number of lines, blank lines, sentences, and words in a give file.**"
      ]
    },
    {
      "cell_type": "code",
      "metadata": {
        "id": "D-aRN9g5DQyv"
      },
      "source": [
        "def processFile(filename):\n",
        "  lines, blanklines, sentences, words = 0, 0, 0, 0\n",
        "  try:\n",
        "    file = open(dataPath, 'r')\n",
        "  except IOError:\n",
        "    print(f\"Unable to open file '%s'\" % dataPath)\n",
        "  \n",
        "  for line in file:\n",
        "    lines += 1\n",
        "\n",
        "    if line.startswith('\\n'):\n",
        "      blanklines += 1\n",
        "    else:\n",
        "      # assuming that each sentence ends with :: or ?\n",
        "      sentences += line.count('።') + line.count('?')\n",
        "\n",
        "    tempwords = line.split(None)\n",
        "\n",
        "    words += len(tempwords)\n",
        "\n",
        "  file.close()\n",
        "\n",
        "  print(f\"-\"*50)\n",
        "  print(f\"Lines         : \", lines)\n",
        "  print(f\"Blank lines   : \", blanklines)\n",
        "  print(f\"Sentences     : \", sentences)\n",
        "  print(f\"Words         : \", words)"
      ],
      "execution_count": 40,
      "outputs": []
    },
    {
      "cell_type": "code",
      "metadata": {
        "colab": {
          "base_uri": "https://localhost:8080/"
        },
        "id": "H4fAlF1wGWsV",
        "outputId": "a71c1d6d-1ef4-4e2c-d72b-ae2571bf2f31"
      },
      "source": [
        "processFile(dataPath)"
      ],
      "execution_count": 41,
      "outputs": [
        {
          "output_type": "stream",
          "text": [
            "--------------------------------------------------\n",
            "Lines         :  19873\n",
            "Blank lines   :  1474\n",
            "Sentences     :  38298\n",
            "Words         :  399339\n"
          ],
          "name": "stdout"
        }
      ]
    },
    {
      "cell_type": "markdown",
      "metadata": {
        "id": "Ml5U20NDK7Th"
      },
      "source": [
        "# **Train sentencePiece for Amharic using BPE (Byte Pair Encoding)**"
      ]
    },
    {
      "cell_type": "code",
      "metadata": {
        "colab": {
          "base_uri": "https://localhost:8080/"
        },
        "id": "Y8CcKZVZ6h-5",
        "outputId": "29dcf940-675c-4b9a-a5bd-caa372e13727"
      },
      "source": [
        "start_time = time.time()\n",
        "spm.SentencePieceTrainer.train(input=dataPath, model_prefix='am-bpe', vocab_size=16000, model_type=\"bpe\", character_coverage=1.0)\n",
        "print(\"--- %s seconds ---\" % (time.time() - start_time))"
      ],
      "execution_count": 42,
      "outputs": [
        {
          "output_type": "stream",
          "text": [
            "--- 9.052777528762817 seconds ---\n"
          ],
          "name": "stdout"
        }
      ]
    },
    {
      "cell_type": "code",
      "metadata": {
        "colab": {
          "base_uri": "https://localhost:8080/"
        },
        "id": "7d1K4guC7dB2",
        "outputId": "790ff8c5-9a7b-4442-a501-49488905fddb"
      },
      "source": [
        "model = spm.SentencePieceProcessor(model_file='am-bpe.model')\n",
        "model.encode('ለአማርኛ ተናጋሪዎች የቀረበ መረጃ', out_type=str)"
      ],
      "execution_count": 43,
      "outputs": [
        {
          "output_type": "execute_result",
          "data": {
            "text/plain": [
              "['▁ለአ', 'ማርኛ', '▁ተናጋሪ', 'ዎች', '▁የቀረ', 'በ', '▁መረጃ']"
            ]
          },
          "metadata": {
            "tags": []
          },
          "execution_count": 43
        }
      ]
    },
    {
      "cell_type": "markdown",
      "metadata": {
        "id": "736gQDu3LkHg"
      },
      "source": [
        "# **Train sentencePiece for Amharic using Unigram.**"
      ]
    },
    {
      "cell_type": "code",
      "metadata": {
        "colab": {
          "base_uri": "https://localhost:8080/"
        },
        "id": "-ro6Og0N_Z3t",
        "outputId": "8254b16d-ebc0-4d89-b92f-7d933fc5b1c3"
      },
      "source": [
        "start_time = time.time()\n",
        "spm.SentencePieceTrainer.train(input=dataPath, model_prefix='am-unigram', vocab_size=16000, model_type=\"unigram\", character_coverage=1.0)\n",
        "print(\"--- %s seconds ---\" % (time.time() - start_time))"
      ],
      "execution_count": 44,
      "outputs": [
        {
          "output_type": "stream",
          "text": [
            "--- 20.374517917633057 seconds ---\n"
          ],
          "name": "stdout"
        }
      ]
    },
    {
      "cell_type": "code",
      "metadata": {
        "colab": {
          "base_uri": "https://localhost:8080/"
        },
        "id": "3LWP782zAX58",
        "outputId": "3be87934-341e-4487-c25a-95b335be71b6"
      },
      "source": [
        "model = spm.SentencePieceProcessor(model_file='am-unigram.model')\n",
        "model.encode('ለአማርኛ ተናጋሪዎች የቀረበ መረጃ', out_type=str)"
      ],
      "execution_count": 45,
      "outputs": [
        {
          "output_type": "execute_result",
          "data": {
            "text/plain": [
              "['▁ለ', 'አማርኛ', '▁ተናጋሪዎች', '▁የቀረበ', '▁መረጃ']"
            ]
          },
          "metadata": {
            "tags": []
          },
          "execution_count": 45
        }
      ]
    },
    {
      "cell_type": "markdown",
      "metadata": {
        "id": "ta0__9mOLnYa"
      },
      "source": [
        "# **Train sentencePiece for Amharic using charcters**"
      ]
    },
    {
      "cell_type": "code",
      "metadata": {
        "colab": {
          "base_uri": "https://localhost:8080/"
        },
        "id": "BZ8bOOfpBaUJ",
        "outputId": "d0610dc1-a7ca-4ed4-8aba-d421f305373c"
      },
      "source": [
        "start_time = time.time()\n",
        "spm.SentencePieceTrainer.train(input=dataPath, model_prefix='am-char', vocab_size=16000, model_type=\"char\", character_coverage=1.0)\n",
        "print(\"--- %s seconds ---\" % (time.time() - start_time))"
      ],
      "execution_count": 46,
      "outputs": [
        {
          "output_type": "stream",
          "text": [
            "--- 0.26238393783569336 seconds ---\n"
          ],
          "name": "stdout"
        }
      ]
    },
    {
      "cell_type": "code",
      "metadata": {
        "colab": {
          "base_uri": "https://localhost:8080/"
        },
        "id": "T3epS8_TBaUL",
        "outputId": "e1433a36-702b-42ef-d237-3c2d94a6d94d"
      },
      "source": [
        "model = spm.SentencePieceProcessor(model_file='am-char.model')\n",
        "model.encode('ለአማርኛ ተናጋሪዎች የቀረበ መረጃ', out_type=str)"
      ],
      "execution_count": 47,
      "outputs": [
        {
          "output_type": "execute_result",
          "data": {
            "text/plain": [
              "['▁',\n",
              " 'ለ',\n",
              " 'አ',\n",
              " 'ማ',\n",
              " 'ር',\n",
              " 'ኛ',\n",
              " '▁',\n",
              " 'ተ',\n",
              " 'ና',\n",
              " 'ጋ',\n",
              " 'ሪ',\n",
              " 'ዎ',\n",
              " 'ች',\n",
              " '▁',\n",
              " 'የ',\n",
              " 'ቀ',\n",
              " 'ረ',\n",
              " 'በ',\n",
              " '▁',\n",
              " 'መ',\n",
              " 'ረ',\n",
              " 'ጃ']"
            ]
          },
          "metadata": {
            "tags": []
          },
          "execution_count": 47
        }
      ]
    },
    {
      "cell_type": "markdown",
      "metadata": {
        "id": "gUAvPZTPLuYR"
      },
      "source": [
        "# **Train sentencePiece for Amharic using words**"
      ]
    },
    {
      "cell_type": "code",
      "metadata": {
        "colab": {
          "base_uri": "https://localhost:8080/"
        },
        "id": "ETUjzrjDBxDk",
        "outputId": "80f8cf53-af91-4168-dead-c33b0baf99a0"
      },
      "source": [
        "start_time = time.time()\n",
        "spm.SentencePieceTrainer.train(input=dataPath, model_prefix='am-word', vocab_size=16000, model_type=\"word\", character_coverage=1.0)\n",
        "print(\"--- %s seconds ---\" % (time.time() - start_time))"
      ],
      "execution_count": 48,
      "outputs": [
        {
          "output_type": "stream",
          "text": [
            "--- 0.4852330684661865 seconds ---\n"
          ],
          "name": "stdout"
        }
      ]
    },
    {
      "cell_type": "code",
      "metadata": {
        "colab": {
          "base_uri": "https://localhost:8080/"
        },
        "id": "JaYURM8uBxDm",
        "outputId": "c71e0824-4ed1-4446-e7a5-5f2ebdfded98"
      },
      "source": [
        "model = spm.SentencePieceProcessor(model_file='am-word.model')\n",
        "model.encode('ለአማርኛ ተናጋሪዎች የቀረበ መረጃ', out_type=str)"
      ],
      "execution_count": 49,
      "outputs": [
        {
          "output_type": "execute_result",
          "data": {
            "text/plain": [
              "['▁ለአማርኛ', '▁ተናጋሪዎች', '▁የቀረበ', '▁መረጃ']"
            ]
          },
          "metadata": {
            "tags": []
          },
          "execution_count": 49
        }
      ]
    }
  ]
}