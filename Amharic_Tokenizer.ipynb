{
  "nbformat": 4,
  "nbformat_minor": 0,
  "metadata": {
    "colab": {
      "name": "Amharic-Tokenizer.ipynb",
      "provenance": [],
      "collapsed_sections": [],
      "mount_file_id": "1qGBG716c1WAS8449NfQiRj3rvt7njmyN",
      "authorship_tag": "ABX9TyOei+tPkCxQpM8YVfnTLXDR",
      "include_colab_link": true
    },
    "kernelspec": {
      "name": "python3",
      "display_name": "Python 3"
    }
  },
  "cells": [
    {
      "cell_type": "markdown",
      "metadata": {
        "id": "view-in-github",
        "colab_type": "text"
      },
      "source": [
        "<a href=\"https://colab.research.google.com/github/elias-ela/amharic-tokenizer/blob/main/Amharic_Tokenizer.ipynb\" target=\"_parent\"><img src=\"https://colab.research.google.com/assets/colab-badge.svg\" alt=\"Open In Colab\"/></a>"
      ]
    },
    {
      "cell_type": "code",
      "metadata": {
        "id": "iyMFL8dK3StB",
        "colab": {
          "base_uri": "https://localhost:8080/"
        },
        "outputId": "3added65-6be9-4b5f-ea02-ff3431f927f5"
      },
      "source": [
        "!pip install sentencepiece"
      ],
      "execution_count": 9,
      "outputs": [
        {
          "output_type": "stream",
          "text": [
            "Requirement already satisfied: sentencepiece in /usr/local/lib/python3.6/dist-packages (0.1.95)\n"
          ],
          "name": "stdout"
        }
      ]
    },
    {
      "cell_type": "code",
      "metadata": {
        "id": "e0x1Zzn13YQW"
      },
      "source": [
        "import sentencepiece as spm\n",
        "import time"
      ],
      "execution_count": 15,
      "outputs": []
    },
    {
      "cell_type": "code",
      "metadata": {
        "colab": {
          "base_uri": "https://localhost:8080/"
        },
        "id": "ajTf5tl9Iuai",
        "outputId": "4265530f-e0b4-4623-a24c-5a6331f4235c"
      },
      "source": [
        "from google.colab import drive\n",
        "drive.mount('/content/drive/')"
      ],
      "execution_count": 16,
      "outputs": [
        {
          "output_type": "stream",
          "text": [
            "Drive already mounted at /content/drive/; to attempt to forcibly remount, call drive.mount(\"/content/drive/\", force_remount=True).\n"
          ],
          "name": "stdout"
        }
      ]
    },
    {
      "cell_type": "code",
      "metadata": {
        "id": "N6py_iBFAteN",
        "colab": {
          "base_uri": "https://localhost:8080/"
        },
        "outputId": "df7a86e6-fd87-430f-a776-df967abf9274"
      },
      "source": [
        "dataPath = 'drive/MyDrive/Colab_Notebooks/am-mono'\n",
        "print(dataPath)"
      ],
      "execution_count": 20,
      "outputs": [
        {
          "output_type": "stream",
          "text": [
            "drive/MyDrive/Colab_Notebooks/am-mono\n"
          ],
          "name": "stdout"
        }
      ]
    },
    {
      "cell_type": "markdown",
      "metadata": {
        "id": "KPMLMlcxKhd0"
      },
      "source": [
        "# **Function that processes number of lines, blank lines, sentences, and words in a give file.**"
      ]
    },
    {
      "cell_type": "code",
      "metadata": {
        "id": "D-aRN9g5DQyv"
      },
      "source": [
        "def processFile(filename):\n",
        "  lines, blanklines, sentences, words = 0, 0, 0, 0\n",
        "  try:\n",
        "    file = open(dataPath, 'r')\n",
        "  except IOError:\n",
        "    print(f\"Unable to open file '%s'\" % dataPath)\n",
        "  \n",
        "  for line in file:\n",
        "    lines += 1\n",
        "\n",
        "    if line.startswith('\\n'):\n",
        "      blanklines += 1\n",
        "    else:\n",
        "      # assuming that each sentence ends with :: or ?\n",
        "      sentences += line.count('።') + line.count('?')\n",
        "\n",
        "    tempwords = line.split(None)\n",
        "\n",
        "    words += len(tempwords)\n",
        "\n",
        "  file.close()\n",
        "\n",
        "  print(f\"-\"*50)\n",
        "  print(f\"Lines         : {lines:,d}\")\n",
        "  print(f\"Blank lines   : {blanklines:,d}\")\n",
        "  print(f\"Sentences     : {sentences:,d}\")\n",
        "  print(f\"Words         : {words:,d}\")"
      ],
      "execution_count": 21,
      "outputs": []
    },
    {
      "cell_type": "code",
      "metadata": {
        "colab": {
          "base_uri": "https://localhost:8080/"
        },
        "id": "H4fAlF1wGWsV",
        "outputId": "a0416faf-8d94-4e35-c14a-126342d7cf6e"
      },
      "source": [
        "processFile(dataPath)"
      ],
      "execution_count": 22,
      "outputs": [
        {
          "output_type": "stream",
          "text": [
            "--------------------------------------------------\n",
            "Lines         : 1,418,958\n",
            "Blank lines   : 1,466\n",
            "Sentences     : 1,354,112\n",
            "Words         : 22,222,977\n"
          ],
          "name": "stdout"
        }
      ]
    },
    {
      "cell_type": "markdown",
      "metadata": {
        "id": "Ml5U20NDK7Th"
      },
      "source": [
        "# **Train sentencePiece for Amharic using BPE (Byte Pair Encoding)**"
      ]
    },
    {
      "cell_type": "code",
      "metadata": {
        "colab": {
          "base_uri": "https://localhost:8080/"
        },
        "id": "Y8CcKZVZ6h-5",
        "outputId": "c19377a3-ea44-4a7e-d1b6-5be372ac6ada"
      },
      "source": [
        "start_time = time.time()\n",
        "spm.SentencePieceTrainer.train(input=dataPath, model_prefix='am-bpe', vocab_size=16000, model_type=\"bpe\", character_coverage=1.0)\n",
        "print(\"--- %s seconds ---\" % (time.time() - start_time))"
      ],
      "execution_count": 23,
      "outputs": [
        {
          "output_type": "stream",
          "text": [
            "--- 76.94041609764099 seconds ---\n"
          ],
          "name": "stdout"
        }
      ]
    },
    {
      "cell_type": "code",
      "metadata": {
        "colab": {
          "base_uri": "https://localhost:8080/"
        },
        "id": "7d1K4guC7dB2",
        "outputId": "f1413394-fd0b-46c4-85fc-c23e98548b3b"
      },
      "source": [
        "model = spm.SentencePieceProcessor(model_file='am-bpe.model')\n",
        "model.encode('ለአማርኛ ተናጋሪዎች የቀረበ መረጃ።', out_type=str)"
      ],
      "execution_count": 24,
      "outputs": [
        {
          "output_type": "execute_result",
          "data": {
            "text/plain": [
              "['▁ለአ', 'ማርኛ', '▁ተና', 'ጋ', 'ሪዎች', '▁የቀረበ', '▁መረጃ', '።']"
            ]
          },
          "metadata": {
            "tags": []
          },
          "execution_count": 24
        }
      ]
    },
    {
      "cell_type": "markdown",
      "metadata": {
        "id": "736gQDu3LkHg"
      },
      "source": [
        "# **Train sentencePiece for Amharic using Unigram.**"
      ]
    },
    {
      "cell_type": "code",
      "metadata": {
        "colab": {
          "base_uri": "https://localhost:8080/"
        },
        "id": "-ro6Og0N_Z3t",
        "outputId": "a7a88f29-bc10-4c34-e649-8dd926c438d2"
      },
      "source": [
        "start_time = time.time()\n",
        "spm.SentencePieceTrainer.train(input=dataPath, model_prefix='am-unigram', vocab_size=16000, model_type=\"unigram\", character_coverage=1.0)\n",
        "print(\"--- %s seconds ---\" % (time.time() - start_time))"
      ],
      "execution_count": 25,
      "outputs": [
        {
          "output_type": "stream",
          "text": [
            "--- 266.321985244751 seconds ---\n"
          ],
          "name": "stdout"
        }
      ]
    },
    {
      "cell_type": "code",
      "metadata": {
        "colab": {
          "base_uri": "https://localhost:8080/"
        },
        "id": "3LWP782zAX58",
        "outputId": "305c435b-60f2-4d63-b0e6-75be67691889"
      },
      "source": [
        "model = spm.SentencePieceProcessor(model_file='am-unigram.model')\n",
        "model.encode('ለአማርኛ ተናጋሪዎች የቀረበ መረጃ።', out_type=str)"
      ],
      "execution_count": 26,
      "outputs": [
        {
          "output_type": "execute_result",
          "data": {
            "text/plain": [
              "['▁ለአ', 'ማር', 'ኛ', '▁ተናጋሪ', 'ዎች', '▁የቀረበ', '▁መረጃ', '።']"
            ]
          },
          "metadata": {
            "tags": []
          },
          "execution_count": 26
        }
      ]
    },
    {
      "cell_type": "markdown",
      "metadata": {
        "id": "ta0__9mOLnYa"
      },
      "source": [
        "# **Train sentencePiece for Amharic using charcters**"
      ]
    },
    {
      "cell_type": "code",
      "metadata": {
        "colab": {
          "base_uri": "https://localhost:8080/"
        },
        "id": "BZ8bOOfpBaUJ",
        "outputId": "b5ea48f9-3e6f-4fb2-9205-e979b5efcb48"
      },
      "source": [
        "start_time = time.time()\n",
        "spm.SentencePieceTrainer.train(input=dataPath, model_prefix='am-char', vocab_size=16000, model_type=\"char\", character_coverage=1.0)\n",
        "print(\"--- %s seconds ---\" % (time.time() - start_time))"
      ],
      "execution_count": 27,
      "outputs": [
        {
          "output_type": "stream",
          "text": [
            "--- 16.90510058403015 seconds ---\n"
          ],
          "name": "stdout"
        }
      ]
    },
    {
      "cell_type": "code",
      "metadata": {
        "colab": {
          "base_uri": "https://localhost:8080/"
        },
        "id": "T3epS8_TBaUL",
        "outputId": "32b3ffff-48a0-46e6-b928-c2a0fbcb45b7"
      },
      "source": [
        "model = spm.SentencePieceProcessor(model_file='am-char.model')\n",
        "model.encode('ለአማርኛ ተናጋሪዎች የቀረበ መረጃ።', out_type=str)"
      ],
      "execution_count": 28,
      "outputs": [
        {
          "output_type": "execute_result",
          "data": {
            "text/plain": [
              "['▁',\n",
              " 'ለ',\n",
              " 'አ',\n",
              " 'ማ',\n",
              " 'ር',\n",
              " 'ኛ',\n",
              " '▁',\n",
              " 'ተ',\n",
              " 'ና',\n",
              " 'ጋ',\n",
              " 'ሪ',\n",
              " 'ዎ',\n",
              " 'ች',\n",
              " '▁',\n",
              " 'የ',\n",
              " 'ቀ',\n",
              " 'ረ',\n",
              " 'በ',\n",
              " '▁',\n",
              " 'መ',\n",
              " 'ረ',\n",
              " 'ጃ',\n",
              " '።']"
            ]
          },
          "metadata": {
            "tags": []
          },
          "execution_count": 28
        }
      ]
    },
    {
      "cell_type": "markdown",
      "metadata": {
        "id": "gUAvPZTPLuYR"
      },
      "source": [
        "# **Train sentencePiece for Amharic using words**"
      ]
    },
    {
      "cell_type": "code",
      "metadata": {
        "colab": {
          "base_uri": "https://localhost:8080/"
        },
        "id": "ETUjzrjDBxDk",
        "outputId": "e20f68de-2a14-49a3-9b79-dd7cbe713154"
      },
      "source": [
        "start_time = time.time()\n",
        "spm.SentencePieceTrainer.train(input=dataPath, model_prefix='am-word', vocab_size=16000, model_type=\"word\", character_coverage=1.0)\n",
        "print(\"--- %s seconds ---\" % (time.time() - start_time))"
      ],
      "execution_count": 29,
      "outputs": [
        {
          "output_type": "stream",
          "text": [
            "--- 24.534483909606934 seconds ---\n"
          ],
          "name": "stdout"
        }
      ]
    },
    {
      "cell_type": "code",
      "metadata": {
        "colab": {
          "base_uri": "https://localhost:8080/"
        },
        "id": "JaYURM8uBxDm",
        "outputId": "2c2b1602-381a-4200-a6d0-1a82eed29bd9"
      },
      "source": [
        "model = spm.SentencePieceProcessor(model_file='am-word.model')\n",
        "model.encode('ለአማርኛ ተናጋሪዎች የቀረበ መረጃ።', out_type=str)"
      ],
      "execution_count": 37,
      "outputs": [
        {
          "output_type": "execute_result",
          "data": {
            "text/plain": [
              "['▁ለአማርኛ▁ተናጋሪዎች', '▁የቀረበ', '▁መረጃ።']"
            ]
          },
          "metadata": {
            "tags": []
          },
          "execution_count": 37
        }
      ]
    }
  ]
}