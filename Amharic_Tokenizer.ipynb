{
  "nbformat": 4,
  "nbformat_minor": 0,
  "metadata": {
    "colab": {
      "name": "Amharic-Tokenizer.ipynb",
      "provenance": [],
      "collapsed_sections": [],
      "authorship_tag": "ABX9TyMfy/VbcWU/+F/Zn5VS4dSc",
      "include_colab_link": true
    },
    "kernelspec": {
      "name": "python3",
      "display_name": "Python 3"
    }
  },
  "cells": [
    {
      "cell_type": "markdown",
      "metadata": {
        "id": "view-in-github",
        "colab_type": "text"
      },
      "source": [
        "<a href=\"https://colab.research.google.com/github/elias-ela/amharic-tokenizer/blob/main/Amharic_Tokenizer.ipynb\" target=\"_parent\"><img src=\"https://colab.research.google.com/assets/colab-badge.svg\" alt=\"Open In Colab\"/></a>"
      ]
    },
    {
      "cell_type": "code",
      "metadata": {
        "id": "iyMFL8dK3StB"
      },
      "source": [
        "!pip install sentencepiece"
      ],
      "execution_count": null,
      "outputs": []
    },
    {
      "cell_type": "code",
      "metadata": {
        "id": "e0x1Zzn13YQW"
      },
      "source": [
        "import sentencepiece as spm\n",
        "import time"
      ],
      "execution_count": 8,
      "outputs": []
    },
    {
      "cell_type": "code",
      "metadata": {
        "id": "N6py_iBFAteN"
      },
      "source": [
        "dataPath = '/content/mono-am'"
      ],
      "execution_count": null,
      "outputs": []
    },
    {
      "cell_type": "code",
      "metadata": {
        "id": "D-aRN9g5DQyv"
      },
      "source": [
        "def processFile(filename):\n",
        "  lines, blanklines, sentences, words = 0, 0, 0, 0\n",
        "  try:\n",
        "    file = open(dataPath, 'r')\n",
        "  except IOError:\n",
        "    print(f\"Unable to open file '%s'\" % dataPath)\n",
        "  \n",
        "  for line in file:\n",
        "    lines += 1\n",
        "\n",
        "    if line.startswith('\\n'):\n",
        "      blanklines += 1\n",
        "    else:\n",
        "      # assuming that each sentence ends with :: or ?\n",
        "      sentences += line.count('።') + line.count('?')\n",
        "\n",
        "    tempwords = line.split(None)\n",
        "\n",
        "    words += len(tempwords)\n",
        "\n",
        "  file.close()\n",
        "\n",
        "  print(f\"-\"*50)\n",
        "  print(f\"Lines         : \", lines)\n",
        "  print(f\"Blank lines   : \", blanklines)\n",
        "  print(f\"Sentences     : \", sentences)\n",
        "  print(f\"Words         : \", words)"
      ],
      "execution_count": 37,
      "outputs": []
    },
    {
      "cell_type": "code",
      "metadata": {
        "colab": {
          "base_uri": "https://localhost:8080/"
        },
        "id": "H4fAlF1wGWsV",
        "outputId": "e83dda0e-1589-4b3d-8ae9-898d00b2d121"
      },
      "source": [
        "processFile(dataPath)"
      ],
      "execution_count": 36,
      "outputs": [
        {
          "output_type": "stream",
          "text": [
            "--------------------------------------------------\n",
            "Lines         :  19873\n",
            "Blank lines   :  1474\n",
            "Sentences     :  38298\n",
            "Words         :  399339\n"
          ],
          "name": "stdout"
        }
      ]
    },
    {
      "cell_type": "code",
      "metadata": {
        "id": "Y8CcKZVZ6h-5"
      },
      "source": [
        "start_time = time.time()\n",
        "spm.SentencePieceTrainer.train(input=dataPath, model_prefix='am-bpe', vocab_size=16000, model_type=\"bpe\", character_coverage=1.0)\n",
        "print(\"--- %s seconds ---\" % (time.time() - start_time))"
      ],
      "execution_count": null,
      "outputs": []
    },
    {
      "cell_type": "code",
      "metadata": {
        "id": "7d1K4guC7dB2"
      },
      "source": [
        "model = spm.SentencePieceProcessor(model_file='am-bpe.model')\n",
        "model.encode('ለአማርኛ ተናጋሪዎች የቀረበ መረጃ', out_type=str)"
      ],
      "execution_count": null,
      "outputs": []
    },
    {
      "cell_type": "code",
      "metadata": {
        "id": "-ro6Og0N_Z3t"
      },
      "source": [
        "start_time = time.time()\n",
        "spm.SentencePieceTrainer.train(input=dataPath, model_prefix='am-unigram', vocab_size=16000, model_type=\"unigram\", character_coverage=1.0)\n",
        "print(\"--- %s seconds ---\" % (time.time() - start_time))"
      ],
      "execution_count": null,
      "outputs": []
    },
    {
      "cell_type": "code",
      "metadata": {
        "id": "3LWP782zAX58"
      },
      "source": [
        "model = spm.SentencePieceProcessor(model_file='am-unigram.model')\n",
        "model.encode('ለአማርኛ ተናጋሪዎች የቀረበ መረጃ', out_type=str)"
      ],
      "execution_count": null,
      "outputs": []
    },
    {
      "cell_type": "code",
      "metadata": {
        "id": "BZ8bOOfpBaUJ"
      },
      "source": [
        "start_time = time.time()\n",
        "spm.SentencePieceTrainer.train(input=dataPath, model_prefix='am-char', vocab_size=16000, model_type=\"char\", character_coverage=1.0)\n",
        "print(\"--- %s seconds ---\" % (time.time() - start_time))"
      ],
      "execution_count": null,
      "outputs": []
    },
    {
      "cell_type": "code",
      "metadata": {
        "id": "T3epS8_TBaUL"
      },
      "source": [
        "model = spm.SentencePieceProcessor(model_file='am-char.model')\n",
        "model.encode('ለአማርኛ ተናጋሪዎች የቀረበ መረጃ', out_type=str)"
      ],
      "execution_count": null,
      "outputs": []
    },
    {
      "cell_type": "code",
      "metadata": {
        "id": "ETUjzrjDBxDk"
      },
      "source": [
        "start_time = time.time()\n",
        "spm.SentencePieceTrainer.train(input=dataPath, model_prefix='am-word', vocab_size=16000, model_type=\"word\", character_coverage=1.0)\n",
        "print(\"--- %s seconds ---\" % (time.time() - start_time))"
      ],
      "execution_count": null,
      "outputs": []
    },
    {
      "cell_type": "code",
      "metadata": {
        "id": "JaYURM8uBxDm"
      },
      "source": [
        "model = spm.SentencePieceProcessor(model_file='am-word.model')\n",
        "model.encode('ለአማርኛ ተናጋሪዎች የቀረበ መረጃ', out_type=str)"
      ],
      "execution_count": null,
      "outputs": []
    }
  ]
}